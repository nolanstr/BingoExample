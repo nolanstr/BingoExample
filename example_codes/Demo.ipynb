{
 "cells": [
  {
   "cell_type": "markdown",
   "id": "1ddc91de",
   "metadata": {},
   "source": [
    "# Demo: GPSR Using Bingo"
   ]
  },
  {
   "cell_type": "markdown",
   "id": "1d18f1c8",
   "metadata": {},
   "source": [
    "## (1) Import Base Packages ##"
   ]
  },
  {
   "cell_type": "code",
   "execution_count": 3,
   "id": "217ba43f",
   "metadata": {},
   "outputs": [],
   "source": [
    "import numpy as np\n",
    "import matplotlib.pyplot as plt"
   ]
  },
  {
   "cell_type": "markdown",
   "id": "14bc7df8",
   "metadata": {},
   "source": [
    "## (2) Import Relevant Bingo Classes ##"
   ]
  },
  {
   "cell_type": "code",
   "execution_count": 4,
   "id": "a8bfb2be",
   "metadata": {},
   "outputs": [
    {
     "name": "stderr",
     "output_type": "stream",
     "text": [
      "/home/nolanstr/.local/lib/python3.8/site-packages/tqdm/auto.py:22: TqdmWarning: IProgress not found. Please update jupyter and ipywidgets. See https://ipywidgets.readthedocs.io/en/stable/user_install.html\n",
      "  from .autonotebook import tqdm as notebook_tqdm\n",
      "/home/nolanstr/codes/bingo/bingo/symbolic_regression/__init__.py:31: UserWarning: Could not load C++ modules cannot import name 'AGraph' from 'bingocpp' (unknown location)\n",
      "  warnings.warn(f\"Could not load C++ modules {import_err}\")\n"
     ]
    }
   ],
   "source": [
    "#Classes for Genetic Programming (GP)\n",
    "from bingo.symbolic_regression import ComponentGenerator\n",
    "from bingo.evolutionary_optimizers.island import Island\n",
    "from bingo.symbolic_regression.agraph.agraph import AGraph\n",
    "\n",
    "#Classes for the EVALUATION stage of GPSR\n",
    "from bingo.symbolic_regression import ExplicitRegression, \\\n",
    "                                      ExplicitTrainingData\n",
    "from bingo.evaluation.evaluation import Evaluation\n",
    "from bingo.local_optimizers.continuous_local_opt import ContinuousLocalOptimization\n",
    "\n",
    "#Classes for the EVOLUTION stage of GPSR\n",
    "from bingo.symbolic_regression import AGraphGenerator, \\\n",
    "                                      AGraphCrossover, \\\n",
    "                                      AGraphMutation\n",
    "\n",
    "#Classes for the SELECTION stage of GPSR\n",
    "from bingo.evolutionary_algorithms.generalized_crowding import \\\n",
    "                                      GeneralizedCrowdingEA\n",
    "from bingo.selection.deterministic_crowding import DeterministicCrowding"
   ]
  },
  {
   "cell_type": "markdown",
   "id": "112b69da",
   "metadata": {},
   "source": [
    "## (2) Initialize GPSR Hyperparameters ##\n",
    "Note: Hyperparameters relating to the criterion check and information storage not present in this code. Refer to BingoExample/example_code/main_script.py for additional information."
   ]
  },
  {
   "cell_type": "code",
   "execution_count": 5,
   "id": "89279d5b",
   "metadata": {},
   "outputs": [],
   "source": [
    "POPULATION_SIZE = 104\n",
    "STACK_SIZE = 48\n",
    "MAX_GENERATIONS = 20000"
   ]
  },
  {
   "cell_type": "markdown",
   "id": "63728dbb",
   "metadata": {},
   "source": [
    "## (3) Make Training Data ##"
   ]
  },
  {
   "cell_type": "code",
   "execution_count": 6,
   "id": "bb0f1043",
   "metadata": {},
   "outputs": [],
   "source": [
    "model = AGraph(equation=\"3*sin(X_0) + 2*X_0\")\n",
    "X = np.linspace(0, np.pi, 50).reshape((-1,1))\n",
    "y = model.evaluate_equation_at(X)\n",
    "training_data = ExplicitTrainingData(x=X, y=y)"
   ]
  },
  {
   "cell_type": "markdown",
   "id": "e3e17c02",
   "metadata": {},
   "source": [
    "## (4) Initialize component generator, mutation and crossover objects, and AGraph generators ##"
   ]
  },
  {
   "cell_type": "code",
   "execution_count": 7,
   "id": "cf02eff8",
   "metadata": {},
   "outputs": [],
   "source": [
    "component_generator = ComponentGenerator(training_data.x.shape[1])\n",
    "component_generator.add_operator(\"+\")\n",
    "component_generator.add_operator(\"-\")\n",
    "component_generator.add_operator(\"*\")\n",
    "component_generator.add_operator(\"sin\")\n",
    "component_generator.add_operator(\"cos\")\n",
    "component_generator.add_operator(\"exp\")\n",
    "component_generator.add_operator(\"pow\")\n",
    "component_generator.add_operator(\"sqrt\")\n",
    "\n",
    "crossover = AGraphCrossover()\n",
    "mutation = AGraphMutation(component_generator)\n",
    "agraph_generator = AGraphGenerator(STACK_SIZE, component_generator,\n",
    "                                       use_simplification=True)"
   ]
  },
  {
   "cell_type": "markdown",
   "id": "a390c111",
   "metadata": {},
   "source": [
    "## (5) Initialize fitness metric, parameter optimizer, and evaluator ##"
   ]
  },
  {
   "cell_type": "code",
   "execution_count": 8,
   "id": "54fa7bb0",
   "metadata": {},
   "outputs": [],
   "source": [
    "fitness = ExplicitRegression(training_data=training_data)\n",
    "local_opt_fitness = ContinuousLocalOptimization(fitness, algorithm='lm')\n",
    "evaluator = Evaluation(local_opt_fitness, multiprocess=4)"
   ]
  },
  {
   "cell_type": "markdown",
   "id": "ad52affb",
   "metadata": {},
   "source": [
    "## (6) Initialize selection and evolutionary algorithm ##"
   ]
  },
  {
   "cell_type": "code",
   "execution_count": 9,
   "id": "1c11293e",
   "metadata": {},
   "outputs": [],
   "source": [
    "selection_phase = DeterministicCrowding()\n",
    "ea = GeneralizedCrowdingEA(evaluator, crossover,\n",
    "                      mutation, 0.4, 0.4, selection_phase)"
   ]
  },
  {
   "cell_type": "markdown",
   "id": "42d57fb1",
   "metadata": {},
   "source": [
    "## (7) Initialize Bingo Island ##"
   ]
  },
  {
   "cell_type": "code",
   "execution_count": 11,
   "id": "348e16a2",
   "metadata": {},
   "outputs": [],
   "source": [
    "island = Island(ea, agraph_generator, POPULATION_SIZE)"
   ]
  },
  {
   "cell_type": "markdown",
   "id": "645999d1",
   "metadata": {},
   "source": [
    "## (8) Run GPSR and Visualize Results ##"
   ]
  },
  {
   "cell_type": "code",
   "execution_count": null,
   "id": "a685d758",
   "metadata": {},
   "outputs": [],
   "source": [
    "def plot_best_n_individuals(ax, island, n=10):\n",
    "    fits = [ind.fitness for ind in island.population]\n",
    "    idxs = np.argsort(fits)[:n]\n",
    "    for i in \n",
    "def update_ax(ax, x, y):\n",
    "    ax.clear()\n",
    "    ax.plot(x, y)\n",
    "\n"
   ]
  },
  {
   "cell_type": "code",
   "execution_count": 12,
   "id": "af821966",
   "metadata": {},
   "outputs": [
    {
     "name": "stderr",
     "output_type": "stream",
     "text": [
      "/home/nolanstr/codes/bingo/bingo/symbolic_regression/agraph/evaluation_backend/operator_eval.py:166: RuntimeWarning: overflow encountered in power\n",
      "  return np.power(forward_eval[param1], forward_eval[param2])\n"
     ]
    },
    {
     "name": "stdout",
     "output_type": "stream",
     "text": [
      "******************/0.9230769230769231\\******************\n",
      "Best individual at initialization\n",
      " f(X_0) = (2.210700215829488)(X_0) + sqrt(X_0)\n"
     ]
    }
   ],
   "source": [
    "fig, axs = plt.subplot(2)\n",
    "axs[0].set_xlabel(\"X\")\n",
    "axs[0].set_ylabel(\"y\")\n",
    "\n",
    "print(\"Best individual at initialization\\n f(X_0) =\", island.get_best_individual())\n",
    "\n"
   ]
  },
  {
   "cell_type": "code",
   "execution_count": null,
   "id": "bfe66305",
   "metadata": {},
   "outputs": [],
   "source": []
  }
 ],
 "metadata": {
  "kernelspec": {
   "display_name": "Python 3 (ipykernel)",
   "language": "python",
   "name": "python3"
  },
  "language_info": {
   "codemirror_mode": {
    "name": "ipython",
    "version": 3
   },
   "file_extension": ".py",
   "mimetype": "text/x-python",
   "name": "python",
   "nbconvert_exporter": "python",
   "pygments_lexer": "ipython3",
   "version": "3.8.10"
  }
 },
 "nbformat": 4,
 "nbformat_minor": 5
}
