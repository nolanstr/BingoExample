{
 "cells": [
  {
   "cell_type": "markdown",
   "id": "1ddc91de",
   "metadata": {},
   "source": [
    "# Demo: GPSR Using Bingo"
   ]
  },
  {
   "cell_type": "markdown",
   "id": "1d18f1c8",
   "metadata": {},
   "source": [
    "## (1) Import Base Packages ##"
   ]
  },
  {
   "cell_type": "code",
   "execution_count": 1,
   "id": "217ba43f",
   "metadata": {},
   "outputs": [],
   "source": [
    "import numpy as np;np.seterr(all=\"ignore\")\n",
    "%matplotlib nbagg\n",
    "import matplotlib.pyplot as plt\n",
    "from tqdm import tqdm"
   ]
  },
  {
   "cell_type": "markdown",
   "id": "14bc7df8",
   "metadata": {},
   "source": [
    "## (2) Import Relevant Bingo Classes ##"
   ]
  },
  {
   "cell_type": "code",
   "execution_count": 3,
   "id": "a8bfb2be",
   "metadata": {},
   "outputs": [],
   "source": [
    "#Classes for Genetic Programming (GP)\n",
    "from bingo.symbolic_regression import ComponentGenerator\n",
    "from bingo.evolutionary_optimizers.island import Island\n",
    "from bingo.symbolic_regression.agraph.agraph import AGraph\n",
    "from bingo.stats.pareto_front import ParetoFront\n",
    "\n",
    "#Classes for the EVALUATION stage of GPSR\n",
    "from bingo.symbolic_regression import ExplicitRegression, \\\n",
    "                                      ExplicitTrainingData\n",
    "from bingo.evaluation.evaluation import Evaluation\n",
    "from bingo.local_optimizers.continuous_local_opt import ContinuousLocalOptimization\n",
    "\n",
    "#Classes for the EVOLUTION stage of GPSR\n",
    "from bingo.symbolic_regression import AGraphGenerator, \\\n",
    "                                      AGraphCrossover, \\\n",
    "                                      AGraphMutation\n",
    "\n",
    "#Classes for the SELECTION stage of GPSR\n",
    "from bingo.evolutionary_algorithms.generalized_crowding import \\\n",
    "                                      GeneralizedCrowdingEA\n",
    "from bingo.selection.deterministic_crowding import DeterministicCrowding"
   ]
  },
  {
   "cell_type": "markdown",
   "id": "112b69da",
   "metadata": {},
   "source": [
    "## (2) Initialize GPSR Hyperparameters ##\n",
    "Note: Hyperparameters relating to the criterion check and information storage not present in this code. Refer to BingoExample/example_code/main_script.py for additional information."
   ]
  },
  {
   "cell_type": "code",
   "execution_count": 4,
   "id": "89279d5b",
   "metadata": {},
   "outputs": [],
   "source": [
    "POPULATION_SIZE = 104\n",
    "STACK_SIZE = 24\n",
    "MAX_GENERATIONS = 1000"
   ]
  },
  {
   "cell_type": "markdown",
   "id": "63728dbb",
   "metadata": {},
   "source": [
    "## (3) Make Training Data ##"
   ]
  },
  {
   "cell_type": "code",
   "execution_count": 5,
   "id": "bb0f1043",
   "metadata": {},
   "outputs": [],
   "source": [
    "model = AGraph(equation=\"3*sin(X_0) + 2*X_0\")\n",
    "X = np.linspace(0, np.pi, 25).reshape((-1,1))\n",
    "y = model.evaluate_equation_at(X)\n",
    "training_data = ExplicitTrainingData(x=X, y=y)"
   ]
  },
  {
   "cell_type": "markdown",
   "id": "e3e17c02",
   "metadata": {},
   "source": [
    "## (4) Initialize component generator, mutation and crossover objects, and AGraph generators ##"
   ]
  },
  {
   "cell_type": "code",
   "execution_count": 6,
   "id": "cf02eff8",
   "metadata": {},
   "outputs": [],
   "source": [
    "component_generator = ComponentGenerator(training_data.x.shape[1])\n",
    "component_generator.add_operator(\"+\")\n",
    "component_generator.add_operator(\"-\")\n",
    "component_generator.add_operator(\"*\")\n",
    "component_generator.add_operator(\"sin\")\n",
    "component_generator.add_operator(\"cos\")\n",
    "component_generator.add_operator(\"exp\")\n",
    "component_generator.add_operator(\"pow\")\n",
    "component_generator.add_operator(\"sqrt\")\n",
    "\n",
    "crossover = AGraphCrossover()\n",
    "mutation = AGraphMutation(component_generator)\n",
    "agraph_generator = AGraphGenerator(STACK_SIZE, component_generator,\n",
    "                                       use_simplification=True)"
   ]
  },
  {
   "cell_type": "markdown",
   "id": "a390c111",
   "metadata": {},
   "source": [
    "## (5) Initialize fitness metric, parameter optimizer, and evaluator ##"
   ]
  },
  {
   "cell_type": "code",
   "execution_count": 7,
   "id": "54fa7bb0",
   "metadata": {},
   "outputs": [],
   "source": [
    "fitness = ExplicitRegression(training_data=training_data)\n",
    "local_opt_fitness = ContinuousLocalOptimization(fitness, algorithm='lm')\n",
    "evaluator = Evaluation(local_opt_fitness)#, multiprocess=4)"
   ]
  },
  {
   "cell_type": "markdown",
   "id": "ad52affb",
   "metadata": {},
   "source": [
    "## (6) Initialize selection and evolutionary algorithm ##"
   ]
  },
  {
   "cell_type": "code",
   "execution_count": 8,
   "id": "1c11293e",
   "metadata": {},
   "outputs": [],
   "source": [
    "selection_phase = DeterministicCrowding()\n",
    "ea = GeneralizedCrowdingEA(evaluator, crossover,\n",
    "                      mutation, 0.4, 0.4, selection_phase)"
   ]
  },
  {
   "cell_type": "markdown",
   "id": "42d57fb1",
   "metadata": {},
   "source": [
    "## (7) Initialize Bingo Island with Hall of Fame ##"
   ]
  },
  {
   "cell_type": "code",
   "execution_count": 9,
   "id": "348e16a2",
   "metadata": {},
   "outputs": [],
   "source": [
    "def agraph_similarity(ag_1, ag_2):\n",
    "    \"\"\"a similarity metric between agraphs\"\"\"\n",
    "    return ag_1.fitness == ag_2.fitness and ag_1.get_complexity() == ag_2.get_complexity()\n",
    "\n",
    "pareto_front = ParetoFront(secondary_key=lambda ag: ag.get_complexity(),\n",
    "                           similarity_function=agraph_similarity) \n",
    "def make_island():\n",
    "    \"\"\"\n",
    "    Function created for repeated runs.\n",
    "    \"\"\"\n",
    "    island = Island(ea, agraph_generator, POPULATION_SIZE, hall_of_fame=pareto_front)\n",
    "    return island"
   ]
  },
  {
   "cell_type": "markdown",
   "id": "645999d1",
   "metadata": {},
   "source": [
    "## (8) Run GPSR and Visualize Results ##"
   ]
  },
  {
   "cell_type": "code",
   "execution_count": 10,
   "id": "a685d758",
   "metadata": {},
   "outputs": [],
   "source": [
    "# Simple Visualization Code\n",
    "\n",
    "def plot_best_n_individuals(ax, island, n=10):\n",
    "    ax.clear()\n",
    "    fits = [ind.fitness for ind in island.population]\n",
    "    idxs = np.argsort(fits)[:n]\n",
    "    for i in idxs:\n",
    "        ind = island.population[i]\n",
    "        ax.plot(X, ind.evaluate_equation_at(X)) \n",
    "    \n",
    "def update_ax(ax, x, y):\n",
    "    ax.clear()\n",
    "    ax.plot(x, y)\n"
   ]
  },
  {
   "cell_type": "code",
   "execution_count": null,
   "id": "af821966",
   "metadata": {},
   "outputs": [
    {
     "name": "stdout",
     "output_type": "stream",
     "text": [
      "Best individual at initialization\n",
      " f(X_0) = sqrt(sqrt(((2)(-381.7505085397798))(X_0) - (-381.7505085397798)))\n"
     ]
    },
    {
     "name": "stderr",
     "output_type": "stream",
     "text": [
      "  0%|▏                                         | 3/1000 [00:00<00:45, 22.02it/s]"
     ]
    },
    {
     "name": "stdout",
     "output_type": "stream",
     "text": [
      "Best individual at generation 1\n",
      " f(X_0) = (-2.0)(-0.9154231012959331 - (X_0))\n",
      "Best individual at generation 2\n",
      " f(X_0) = 1.1922831043724296 + (2)(X_0) + (sin(X_0))^(X_0)\n"
     ]
    },
    {
     "name": "stderr",
     "output_type": "stream",
     "text": [
      "  2%|▋                                        | 18/1000 [00:00<00:49, 19.96it/s]"
     ]
    },
    {
     "name": "stdout",
     "output_type": "stream",
     "text": [
      "Best individual at generation 15\n",
      " f(X_0) = (0.7670641891677978)((0.7892508289828413 + X_0 + (X_0)^(X_0))(0.8802495017853309 + sin(0.7892508289828413 + X_0)))\n"
     ]
    },
    {
     "name": "stderr",
     "output_type": "stream",
     "text": [
      "  2%|▉                                        | 24/1000 [00:01<00:52, 18.75it/s]"
     ]
    },
    {
     "name": "stdout",
     "output_type": "stream",
     "text": [
      "Best individual at generation 22\n",
      " f(X_0) = (0.9782112626153797 + exp(-3.9810116995063116 - (X_0)))^(-94.14811418982998)\n"
     ]
    },
    {
     "name": "stderr",
     "output_type": "stream",
     "text": [
      "  3%|█▎                                       | 33/1000 [00:01<00:53, 17.91it/s]"
     ]
    },
    {
     "name": "stdout",
     "output_type": "stream",
     "text": [
      "Best individual at generation 31\n",
      " f(X_0) = -10.614757217416374 + (2.426668274555507)((1.291717987640874 + X_0 + (X_0)^(X_0))(1.1338942065248312 + sin(1.291717987640874 + X_0)))\n"
     ]
    },
    {
     "name": "stderr",
     "output_type": "stream",
     "text": [
      "  6%|██▎                                      | 57/1000 [00:03<01:04, 14.64it/s]"
     ]
    },
    {
     "name": "stdout",
     "output_type": "stream",
     "text": [
      "Best individual at generation 55\n",
      " f(X_0) = -49.058067465757965 + (0.12726262750139)((21.972224831876062 + X_0)(17.430267892364164 + sin(0.1141374990782164 + X_0)))\n"
     ]
    },
    {
     "name": "stderr",
     "output_type": "stream",
     "text": [
      " 14%|█████▊                                  | 145/1000 [00:09<01:12, 11.84it/s]"
     ]
    },
    {
     "name": "stdout",
     "output_type": "stream",
     "text": [
      "Best individual at generation 144\n",
      " f(X_0) = 52.278647302579614 + (0.11045597439662193)((-28.704761979972726 + X_0)(16.38875886197151 + sin(3.04243062808244 + X_0)))\n"
     ]
    },
    {
     "name": "stderr",
     "output_type": "stream",
     "text": [
      " 25%|█████████▊                              | 246/1000 [00:20<01:25,  8.79it/s]"
     ]
    },
    {
     "name": "stdout",
     "output_type": "stream",
     "text": [
      "Best individual at generation 244\n",
      " f(X_0) = (2.0)(X_0 + (1.5)(sin(X_0)))\n"
     ]
    },
    {
     "name": "stderr",
     "output_type": "stream",
     "text": [
      " 52%|████████████████████▉                   | 524/1000 [01:14<01:29,  5.30it/s]"
     ]
    }
   ],
   "source": [
    "%matplotlib inline\n",
    "import matplotlib.pyplot as plt\n",
    "island = make_island()\n",
    "fig, axs = plt.subplots(2)\n",
    "axs[0].set_xlabel(\"X\")\n",
    "axs[0].set_ylabel(\"y\")\n",
    "\n",
    "print(\"Best individual at initialization\\n f(X_0) =\", island.get_best_individual())\n",
    "best_indv_values = []\n",
    "best_indv_values.append(island.get_best_individual())\n",
    "best_indv_gen = []\n",
    "best_indv_gen.append(island.generational_age)\n",
    "fits = [ind.fitness for ind in island.population]\n",
    "means = [np.nanmean(fits)]\n",
    "\n",
    "for i in tqdm(range(MAX_GENERATIONS)):\n",
    "    island.evolve(1)\n",
    "    best_indv = island.get_best_individual()\n",
    "    if best_indv.fitness < best_indv_values[-1].fitness:\n",
    "        best_indv_values.append(best_indv)\n",
    "        best_indv_gen.append(island.generational_age)\n",
    "        print(f\"Best individual at generation {island.generational_age}\\n f(X_0) =\", island.get_best_individual())\n",
    "    fits = [ind.fitness for ind in island.population]\n",
    "    means += [np.nanmean(fits)]\n",
    "    update_ax(axs[0], np.arange(island.generational_age+1), means)\n"
   ]
  },
  {
   "cell_type": "code",
   "execution_count": null,
   "id": "bfe66305",
   "metadata": {},
   "outputs": [],
   "source": []
  }
 ],
 "metadata": {
  "kernelspec": {
   "display_name": "Python 3 (ipykernel)",
   "language": "python",
   "name": "python3"
  },
  "language_info": {
   "codemirror_mode": {
    "name": "ipython",
    "version": 3
   },
   "file_extension": ".py",
   "mimetype": "text/x-python",
   "name": "python",
   "nbconvert_exporter": "python",
   "pygments_lexer": "ipython3",
   "version": "3.9.12"
  }
 },
 "nbformat": 4,
 "nbformat_minor": 5
}
